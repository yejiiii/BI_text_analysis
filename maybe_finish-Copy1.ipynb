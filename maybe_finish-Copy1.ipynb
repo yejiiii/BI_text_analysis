{
 "cells": [
  {
   "cell_type": "markdown",
   "metadata": {},
   "source": [
    "### 데이터 받아오기"
   ]
  },
  {
   "cell_type": "code",
   "execution_count": 1,
   "metadata": {},
   "outputs": [],
   "source": [
    "import json\n",
    "import numpy as np\n",
    "import random\n",
    "import nltk"
   ]
  },
  {
   "cell_type": "code",
   "execution_count": 2,
   "metadata": {},
   "outputs": [],
   "source": [
    "for i in range(9):\n",
    "    i = \"00\"+str(i+1)\n",
    "    j = \"Books_5_\"+i+\".json\"\n",
    "    with open(j,\"r\") as data_file:\n",
    "        raw_data=data_file.readlines()"
   ]
  },
  {
   "cell_type": "code",
   "execution_count": 3,
   "metadata": {},
   "outputs": [
    {
     "name": "stdout",
     "output_type": "stream",
     "text": [
      " be honest I had a hard time getting into the first story \\\"The Perfect Secret\\\". But I am glad I kept going because I wasn't disappointed. I highly recommend this book to anyone who enjoys Amish Fiction.\", \"overall\": 4.0, \"summary\": \"Wonderful Read\", \"unixReviewTime\": 1321315200, \"reviewTime\": \"11 15, 2011\"}\n",
      " 0\n",
      "{\"reviewerID\": \"AI60470VYBMA1\", \"asin\": \"B004LLJ1RW\", \"reviewerName\": \"Amazon Customer\", \"helpful\": [0, 0], \"reviewText\": \"I have to admit that I'm surprise this book isn't ranking higher.  I only had one real problem with the book, and I'll write that below.  I liked the book.  I found Dillon to be all that we women dream for in a man with a few flaws that made him irksome, but cute.  I found Cailin to be a bit snobbish at first, but honestly, how many of us would willing let our parents marry us off to a total stranger, them keeping the why's from us, without throwing a fit or two ourselves?  By the end you love her, and she grow 779968\n"
     ]
    }
   ],
   "source": [
    "json_list = []\n",
    "for i in range(len(raw_data)):\n",
    "    try:\n",
    "        json_data = json.loads(raw_data[i])\n",
    "        json_list.append(json_data)\n",
    "    except:\n",
    "        print(raw_data[i],i)"
   ]
  },
  {
   "cell_type": "markdown",
   "metadata": {},
   "source": [
    "### 데이터 분리하기"
   ]
  },
  {
   "cell_type": "code",
   "execution_count": 4,
   "metadata": {
    "collapsed": true
   },
   "outputs": [],
   "source": [
    "review_data = []\n",
    "\n",
    "for i in range(len(json_list)):\n",
    "    review_dict={}\n",
    "    review_dict[\"reviewText\"] = json_list[i][\"reviewText\"]\n",
    "    review_dict[\"overall\"] = json_list[i][\"overall\"]\n",
    "    review_data.append(review_dict)"
   ]
  },
  {
   "cell_type": "code",
   "execution_count": 5,
   "metadata": {
    "collapsed": true
   },
   "outputs": [],
   "source": [
    "reviewText = []\n",
    "for i in range(len(review_data)):\n",
    "    reviewText.append(review_data[i][\"reviewText\"])"
   ]
  },
  {
   "cell_type": "code",
   "execution_count": 6,
   "metadata": {},
   "outputs": [
    {
     "data": {
      "text/plain": [
       "'An Amish Wedding by Beth Wiseman, Kathleen Fuller, & Kelly Long was a pure enjoyment to read. Then again I may be biased because each of these ladies are my favorite amish writers. I loved this collaborative piece in which they told the amazing love tales of a group of ladies from one county. Each of the tales was inspiring and touching in the way they came to embrace God and a better understanding of themselves. If I were to go into detail of the relationships, I think I would give away to much of the goodness of the three tales. Read them you will not be disappointed.'"
      ]
     },
     "execution_count": 6,
     "metadata": {},
     "output_type": "execute_result"
    }
   ],
   "source": [
    "reviewText[9]"
   ]
  },
  {
   "cell_type": "code",
   "execution_count": 7,
   "metadata": {
    "collapsed": true
   },
   "outputs": [],
   "source": [
    "y_data = []\n",
    "for i in range(len(review_data)):\n",
    "    y_data.append(review_data[i][\"overall\"])"
   ]
  },
  {
   "cell_type": "code",
   "execution_count": 8,
   "metadata": {},
   "outputs": [
    {
     "data": {
      "text/plain": [
       "Counter({1.0: 25979, 2.0: 32363, 3.0: 80554, 4.0: 197497, 5.0: 443574})"
      ]
     },
     "execution_count": 8,
     "metadata": {},
     "output_type": "execute_result"
    }
   ],
   "source": [
    "from collections import Counter\n",
    "Counter(y_data)"
   ]
  },
  {
   "cell_type": "markdown",
   "metadata": {},
   "source": [
    "<h3>데이터 전처리</h3>"
   ]
  },
  {
   "cell_type": "code",
   "execution_count": 9,
   "metadata": {
    "collapsed": true
   },
   "outputs": [],
   "source": [
    "from nltk.corpus import stopwords\n",
    "from bs4 import BeautifulSoup\n",
    "import re"
   ]
  },
  {
   "cell_type": "code",
   "execution_count": 10,
   "metadata": {
    "collapsed": true
   },
   "outputs": [],
   "source": [
    "def review_to_words(raw_review):\n",
    "    # Function to convert a raw review to a string of words\n",
    "    # The input is a single string (a raw movie review), and \n",
    "    # the output is a single string (a preprocessed movie review)\n",
    "    \n",
    "   \n",
    "    cleaned_text_list=[]\n",
    "    for i in range(len(raw_review)):\n",
    "        \n",
    "        review_text = BeautifulSoup(raw_review[i]).get_text()\n",
    "        letters_only = re.sub(\"[^a-zA-Z]\", \" \", review_text)\n",
    "        words = letters_only.lower().split()\n",
    "        cleaned_text = \" \".join(words)\n",
    "        cleaned_text_list.append(cleaned_text)\n",
    "\n",
    "    return cleaned_text_list "
   ]
  },
  {
   "cell_type": "code",
   "execution_count": 11,
   "metadata": {
    "scrolled": false
   },
   "outputs": [
    {
     "name": "stderr",
     "output_type": "stream",
     "text": [
      "c:\\users\\jangy\\miniconda3\\envs\\bi_project\\lib\\site-packages\\bs4\\__init__.py:181: UserWarning: No parser was explicitly specified, so I'm using the best available HTML parser for this system (\"html5lib\"). This usually isn't a problem, but if you run this code on another system, or in a different virtual environment, it may use a different parser and behave differently.\n",
      "\n",
      "The code that caused this warning is on line 170 of the file c:\\users\\jangy\\miniconda3\\envs\\bi_project\\lib\\runpy.py. To get rid of this warning, change code that looks like this:\n",
      "\n",
      " BeautifulSoup(YOUR_MARKUP})\n",
      "\n",
      "to this:\n",
      "\n",
      " BeautifulSoup(YOUR_MARKUP, \"html5lib\")\n",
      "\n",
      "  markup_type=markup_type))\n"
     ]
    }
   ],
   "source": [
    "pre_data=review_to_words(reviewText)"
   ]
  },
  {
   "cell_type": "code",
   "execution_count": 12,
   "metadata": {},
   "outputs": [
    {
     "name": "stdout",
     "output_type": "stream",
     "text": [
      "779967 779967 779967\n"
     ]
    }
   ],
   "source": [
    "print(len(reviewText), len(pre_data), len(y_data))"
   ]
  },
  {
   "cell_type": "markdown",
   "metadata": {},
   "source": [
    "### 데이터 셔플"
   ]
  },
  {
   "cell_type": "code",
   "execution_count": 13,
   "metadata": {
    "collapsed": true
   },
   "outputs": [],
   "source": [
    "c = list(zip(pre_data, y_data))\n",
    "random.shuffle(c)"
   ]
  },
  {
   "cell_type": "code",
   "execution_count": 14,
   "metadata": {
    "collapsed": true
   },
   "outputs": [],
   "source": [
    "a, b = zip(*c)"
   ]
  },
  {
   "cell_type": "code",
   "execution_count": 15,
   "metadata": {
    "collapsed": true
   },
   "outputs": [],
   "source": [
    "pre_text_data=list(a)\n",
    "overall_data=np.array(list(b))"
   ]
  },
  {
   "cell_type": "code",
   "execution_count": 16,
   "metadata": {},
   "outputs": [],
   "source": [
    "from sklearn.feature_extraction.text import TfidfVectorizer\n",
    "vectorizer = TfidfVectorizer(analyzer='word', sublinear_tf=True,lowercase=True)\n",
    "\n",
    "tfidf = vectorizer.fit_transform(pre_text_data)"
   ]
  },
  {
   "cell_type": "markdown",
   "metadata": {},
   "source": [
    "### 가장 작은 평점으로 갯수 맞추기"
   ]
  },
  {
   "cell_type": "code",
   "execution_count": 17,
   "metadata": {
    "collapsed": true
   },
   "outputs": [],
   "source": [
    "from collections import Counter\n",
    "length=sorted(Counter(overall_data).most_common())[0][1]"
   ]
  },
  {
   "cell_type": "code",
   "execution_count": 18,
   "metadata": {
    "collapsed": true
   },
   "outputs": [],
   "source": [
    "# pre_data=[]\n",
    "# overall_data=[]\n",
    "# for j in range(len(reviewText)):\n",
    "#     try:\n",
    "#         if 50<=len(reviewText[j]) or len(reviewText[j])<=1500:\n",
    "#             pre_data.append(reviewText[j])\n",
    "#             overall_data.append(y_data[j])\n",
    "#     except:\n",
    "#         print(j)"
   ]
  },
  {
   "cell_type": "code",
   "execution_count": 19,
   "metadata": {
    "collapsed": true
   },
   "outputs": [],
   "source": [
    "search=[1.0,2.0,3.0,4.0,5.0]\n",
    "count=0\n",
    "text=[]\n",
    "y=[]\n",
    "\n",
    "for i in search:\n",
    "    count=0\n",
    "    for index,value in enumerate(overall_data):\n",
    "        if (count==length): break\n",
    "        elif (i==value):\n",
    "            text.append(pre_text_data[index])\n",
    "            y.append(value)\n",
    "            count=count+1"
   ]
  },
  {
   "cell_type": "code",
   "execution_count": 20,
   "metadata": {},
   "outputs": [
    {
     "data": {
      "text/plain": [
       "Counter({1.0: 25979, 2.0: 25979, 3.0: 25979, 4.0: 25979, 5.0: 25979})"
      ]
     },
     "execution_count": 20,
     "metadata": {},
     "output_type": "execute_result"
    }
   ],
   "source": [
    "Counter(y)"
   ]
  },
  {
   "cell_type": "code",
   "execution_count": 21,
   "metadata": {},
   "outputs": [
    {
     "name": "stdout",
     "output_type": "stream",
     "text": [
      "129895 129895\n"
     ]
    }
   ],
   "source": [
    "print(len(text), len(y))"
   ]
  },
  {
   "cell_type": "markdown",
   "metadata": {},
   "source": [
    "<h3>데이터 셔플 다시</h3>"
   ]
  },
  {
   "cell_type": "code",
   "execution_count": 22,
   "metadata": {
    "collapsed": true
   },
   "outputs": [],
   "source": [
    "c = list(zip(text, y))\n",
    "random.shuffle(c)"
   ]
  },
  {
   "cell_type": "code",
   "execution_count": 23,
   "metadata": {
    "collapsed": true
   },
   "outputs": [],
   "source": [
    "a, b = zip(*c)"
   ]
  },
  {
   "cell_type": "code",
   "execution_count": 24,
   "metadata": {
    "collapsed": true
   },
   "outputs": [],
   "source": [
    "text_data=list(a)\n",
    "overall=np.array(list(b))"
   ]
  },
  {
   "cell_type": "code",
   "execution_count": 25,
   "metadata": {
    "collapsed": true
   },
   "outputs": [],
   "source": [
    "from sklearn.feature_extraction.text import TfidfVectorizer\n",
    "vectorizer = TfidfVectorizer(analyzer='word', sublinear_tf=True,lowercase=True, stop_words='english', ngram_range=(1,2),\n",
    "                            max_df = 0.2, min_df =2)\n",
    "\n",
    "\n",
    "tfidf = vectorizer.fit_transform(text_data)"
   ]
  },
  {
   "cell_type": "code",
   "execution_count": 26,
   "metadata": {
    "collapsed": true
   },
   "outputs": [],
   "source": [
    "from sklearn.model_selection import train_test_split\n",
    "x_train, x_test, y_train, y_test = train_test_split(tfidf , overall , test_size=0.33, random_state=100)"
   ]
  },
  {
   "cell_type": "code",
   "execution_count": 27,
   "metadata": {},
   "outputs": [
    {
     "data": {
      "text/plain": [
       "((87029, 953351), (87029,), (42866, 953351), (42866,))"
      ]
     },
     "execution_count": 27,
     "metadata": {},
     "output_type": "execute_result"
    }
   ],
   "source": [
    "x_train.shape, y_train.shape, x_test.shape, y_test.shape"
   ]
  },
  {
   "cell_type": "markdown",
   "metadata": {},
   "source": [
    "### 예측"
   ]
  },
  {
   "cell_type": "markdown",
   "metadata": {},
   "source": [
    "### LogisticRegression"
   ]
  },
  {
   "cell_type": "code",
   "execution_count": 28,
   "metadata": {},
   "outputs": [
    {
     "data": {
      "text/plain": [
       "array([ True, False, False, ...,  True,  True, False], dtype=bool)"
      ]
     },
     "execution_count": 28,
     "metadata": {},
     "output_type": "execute_result"
    }
   ],
   "source": [
    "from sklearn import linear_model\n",
    "logreg = linear_model.LogisticRegression(C=0.8, random_state=500, solver='sag', multi_class='multinomial', warm_start=True)\n",
    "\n",
    "logreg.fit(x_train, y_train)\n",
    "logreg.predict(x_test)==y_test\n",
    "\n",
    "# from sklearn import linear_model\n",
    "# #logreg = linear_model.LogisticRegression()\n",
    "# logreg = linear_model.LogisticRegression(random_state=42,solver='sag',multi_class='multinomial',warm_start=True)\n",
    "# logreg.fit(x_train, y_train)"
   ]
  },
  {
   "cell_type": "code",
   "execution_count": 29,
   "metadata": {},
   "outputs": [
    {
     "name": "stdout",
     "output_type": "stream",
     "text": [
      "[ 4.  5.  3.  1.  4.  3.  1.  5.  3.  2.] [ 4.  4.  2.  2.  4.  4.  1.  5.  1.  1.]\n"
     ]
    }
   ],
   "source": [
    "print(y_test[:10], logreg.predict(x_test)[:10])"
   ]
  },
  {
   "cell_type": "code",
   "execution_count": 30,
   "metadata": {},
   "outputs": [
    {
     "data": {
      "text/plain": [
       "0.52045910511827553"
      ]
     },
     "execution_count": 30,
     "metadata": {},
     "output_type": "execute_result"
    }
   ],
   "source": [
    "from sklearn.metrics import accuracy_score\n",
    "accuracy_score(logreg.predict(x_test), y_test)\n"
   ]
  },
  {
   "cell_type": "code",
   "execution_count": 31,
   "metadata": {},
   "outputs": [
    {
     "data": {
      "text/plain": [
       "array([ 0.65683487,  0.4353283 ,  0.40615278,  0.45328194,  0.65434833])"
      ]
     },
     "execution_count": 31,
     "metadata": {},
     "output_type": "execute_result"
    }
   ],
   "source": [
    "from sklearn.metrics import precision_score\n",
    "precision_score(logreg.predict(x_test), y_test,average=None) "
   ]
  },
  {
   "cell_type": "code",
   "execution_count": 32,
   "metadata": {},
   "outputs": [
    {
     "name": "stdout",
     "output_type": "stream",
     "text": [
      "1 점 =  0.151521486679\n",
      "2 점 =  0.30058662371\n",
      "3 점 =  0.490060079848\n",
      "4 점 =  0.710184662638\n",
      "5 점 =  0.844334190332\n"
     ]
    }
   ],
   "source": [
    "from sklearn import metrics\n",
    "for i in range(1,6):\n",
    "    fpr, tpr, thresholds = metrics.roc_curve(y_test, logreg.predict(x_test), pos_label=i)\n",
    "#pos_label Label considered as positive and others are considered negative.\n",
    "    print(i,\"점 = \",metrics.auc(fpr, tpr))"
   ]
  },
  {
   "cell_type": "code",
   "execution_count": 33,
   "metadata": {
    "collapsed": true
   },
   "outputs": [],
   "source": [
    "result=logreg.predict(x_test)"
   ]
  },
  {
   "cell_type": "code",
   "execution_count": 34,
   "metadata": {},
   "outputs": [
    {
     "name": "stdout",
     "output_type": "stream",
     "text": [
      "             precision    recall  f1-score   support\n",
      "\n",
      "        1.0       0.59      0.66      0.62      8442\n",
      "        2.0       0.47      0.44      0.45      8605\n",
      "        3.0       0.47      0.41      0.43      8679\n",
      "        4.0       0.47      0.45      0.46      8562\n",
      "        5.0       0.58      0.65      0.61      8578\n",
      "\n",
      "avg / total       0.51      0.52      0.52     42866\n",
      "\n"
     ]
    }
   ],
   "source": [
    "from sklearn.metrics import classification_report\n",
    "print(classification_report(y_test, result))"
   ]
  },
  {
   "cell_type": "markdown",
   "metadata": {},
   "source": [
    "### INPUT "
   ]
  },
  {
   "cell_type": "code",
   "execution_count": 35,
   "metadata": {},
   "outputs": [
    {
     "name": "stderr",
     "output_type": "stream",
     "text": [
      "c:\\users\\jangy\\miniconda3\\envs\\bi_project\\lib\\site-packages\\bs4\\__init__.py:181: UserWarning: No parser was explicitly specified, so I'm using the best available HTML parser for this system (\"html5lib\"). This usually isn't a problem, but if you run this code on another system, or in a different virtual environment, it may use a different parser and behave differently.\n",
      "\n",
      "The code that caused this warning is on line 170 of the file c:\\users\\jangy\\miniconda3\\envs\\bi_project\\lib\\runpy.py. To get rid of this warning, change code that looks like this:\n",
      "\n",
      " BeautifulSoup(YOUR_MARKUP})\n",
      "\n",
      "to this:\n",
      "\n",
      " BeautifulSoup(YOUR_MARKUP, \"html5lib\")\n",
      "\n",
      "  markup_type=markup_type))\n"
     ]
    }
   ],
   "source": [
    "texts = [\"\"\"I enjoyed this book, as long as I kept in mind that the book was written for young adults.  \n",
    "         The characters were believable and it was easy to identify with their pain.\"\"\",\n",
    "        \"I think the author gets lost in his own thoughts and trys to make storys of something that's not there.\",\n",
    "        \"\"\"I was very excited to start reading this book and although I did like it, \n",
    "        I thought that a lot of the words to describe body parts was kind of high-schoolish.  \n",
    "        Didn't care for the cliff hanging ending.\"\"\",\n",
    "        \"\"\"I don't know if you are familiar with FANFIC on the internet but that what this book reminded me of.  \n",
    "        I love the series and thought I would like the books...not so much.\"\"\",\n",
    "        \"\"\"As I love western era romances, this one was wonderful.  An easy read and ended the way we always hope....happily!\"\"\"]\n",
    "overall=[4,1,3,2,5]\n",
    "vecs = vectorizer.transform(review_to_words(texts)) "
   ]
  },
  {
   "cell_type": "code",
   "execution_count": 36,
   "metadata": {},
   "outputs": [
    {
     "name": "stdout",
     "output_type": "stream",
     "text": [
      "[4, 1, 3, 2, 5] [ 4.  2.  2.  5.  5.]\n"
     ]
    }
   ],
   "source": [
    "print(overall,logreg.predict(vecs))"
   ]
  },
  {
   "cell_type": "code",
   "execution_count": null,
   "metadata": {
    "collapsed": true
   },
   "outputs": [],
   "source": []
  },
  {
   "cell_type": "code",
   "execution_count": null,
   "metadata": {
    "collapsed": true
   },
   "outputs": [],
   "source": []
  }
 ],
 "metadata": {
  "kernelspec": {
   "display_name": "Python 3",
   "language": "python",
   "name": "python3"
  },
  "language_info": {
   "codemirror_mode": {
    "name": "ipython",
    "version": 3
   },
   "file_extension": ".py",
   "mimetype": "text/x-python",
   "name": "python",
   "nbconvert_exporter": "python",
   "pygments_lexer": "ipython3",
   "version": "3.5.0"
  }
 },
 "nbformat": 4,
 "nbformat_minor": 2
}
