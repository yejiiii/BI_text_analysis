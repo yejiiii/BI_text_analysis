{
 "cells": [
  {
   "cell_type": "code",
   "execution_count": 1,
   "metadata": {},
   "outputs": [
    {
     "name": "stderr",
     "output_type": "stream",
     "text": [
      "c:\\users\\jangy\\miniconda3\\envs\\bi_project\\lib\\site-packages\\sklearn\\cross_validation.py:44: DeprecationWarning: This module was deprecated in version 0.18 in favor of the model_selection module into which all the refactored classes and functions are moved. Also note that the interface of the new CV iterators are different from that of this module. This module will be removed in 0.20.\n",
      "  \"This module will be removed in 0.20.\", DeprecationWarning)\n"
     ]
    }
   ],
   "source": [
    "import json\n",
    "import numpy as np\n",
    "from sklearn.preprocessing import MultiLabelBinarizer\n",
    "import nltk\n",
    "from sklearn import cross_validation\n",
    "from sklearn import datasets\n",
    "from sklearn.multiclass import OneVsRestClassifier\n",
    "from sklearn.svm import LinearSVC\n",
    "from sklearn.metrics import accuracy_score\n",
    "from sklearn import linear_model\n",
    "from sklearn.feature_extraction.text import TfidfVectorizer"
   ]
  },
  {
   "cell_type": "code",
   "execution_count": 2,
   "metadata": {},
   "outputs": [],
   "source": [
    "with open(\"reviews_Books_5.json\",\"r\") as data_file:\n",
    "    raw_data=data_file.readlines()"
   ]
  },
  {
   "cell_type": "code",
   "execution_count": 3,
   "metadata": {},
   "outputs": [
    {
     "name": "stdout",
     "output_type": "stream",
     "text": [
      "{\"reviewerID\": \"AAXUNK0W2DZG5\", \"asin\": \"0060520841\", \"reviewerName\": \"Amazon Customer \\\"leneker\\\"\", \"helpful\": [5, 10], \"reviewText\": \"1996 Bernard Goldberg wrote an editorial for the Wall Street Journal that said there was an obvious bias on the part of network new shows  for the liberal point of view.  he then illustrated this with an example that he dissected in-depth.  The reaction to this observation was the ruination of her career, and the beginning of his status as a pariah among most newsmen.  This book is used to add more ammo to the controversy.That the journalists who so eagerly pry into other peoples lives and business should be reluctant to be examined is hardly surprising.  Almost no one really wants to have his life or business dissected by Mike Wallace not even Dan Rather.  Some facts in this book are really potent such as the survey results which show how the average journalist and the average American are often vastly at odds.  Other chapters highlight different stories that TV news has covered and the analysis that Goldberg has made to point out the liberal bias.  His main theme is that while there is no conspiracy of the left, the fact is that most reporters are liberal but fewer still will admit it.There is some sound reasoning behind this book.  Sadly in execution, it doesn't come off as well as it could.  Goldberg has one argument in all the years he worked closely with Dan Rather (according to him) and yet it seems like all they did was fight.  Why ?  because Goldberg replays that one argument about 5 or 6 times in the book.  Much of the material that is thought provoking the first time around is pretty stale after the third or fourth reading. He kindly reprints the editorial that started the whole furor, too bad this was at the end of the book because the entire first chapter is just a rehash of that argument.  Too often Goldberg is reduced sounding like the bitter vindictive perso 93184\n"
     ]
    }
   ],
   "source": [
    "json_list = []\n",
    "for i in range(len(raw_data)):\n",
    "    try:\n",
    "        json_data = json.loads(raw_data[i])\n",
    "        json_list.append(json_data)\n",
    "    except:\n",
    "        print(raw_data[i],i)"
   ]
  },
  {
   "cell_type": "code",
   "execution_count": 4,
   "metadata": {
    "collapsed": true
   },
   "outputs": [],
   "source": [
    "review_data = []\n",
    "\n",
    "for i in range(len(json_list)):\n",
    "    review_dict={}\n",
    "    review_dict[\"reviewText\"] = json_list[i][\"reviewText\"]\n",
    "    review_dict[\"overall\"] = json_list[i][\"overall\"]\n",
    "    review_data.append(review_dict)"
   ]
  },
  {
   "cell_type": "code",
   "execution_count": 5,
   "metadata": {
    "collapsed": true
   },
   "outputs": [],
   "source": [
    "import random\n",
    "random_data = random.sample(review_data,len(review_data))"
   ]
  },
  {
   "cell_type": "code",
   "execution_count": 6,
   "metadata": {
    "collapsed": true
   },
   "outputs": [],
   "source": [
    "reviewText = []\n",
    "for i in range(len(random_data)):\n",
    "    reviewText.append(random_data[i][\"reviewText\"])"
   ]
  },
  {
   "cell_type": "code",
   "execution_count": 7,
   "metadata": {
    "collapsed": true
   },
   "outputs": [],
   "source": [
    "y_data = []\n",
    "int_y_data = []\n",
    "for i in range(len(random_data)):\n",
    "    y_data.append(random_data[i][\"overall\"])\n",
    "y_data=np.array(y_data)"
   ]
  },
  {
   "cell_type": "code",
   "execution_count": 10,
   "metadata": {},
   "outputs": [
    {
     "name": "stdout",
     "output_type": "stream",
     "text": [
      "SVM : 0.630420781451 max_df: 0.1  min_df: 1\n",
      "Logistic : 0.610562473164 max_df: 0.1 min_df: 1\n",
      "error : max_df: 0.1 error : min_df: 0.9\n"
     ]
    }
   ],
   "source": [
    "max_value = 0.1\n",
    "min_value = 1\n",
    "\n",
    "try:\n",
    "    for i in range(10):\n",
    "        for j in range(10):\n",
    "            vectorizer = TfidfVectorizer(analyzer='word', sublinear_tf=True, ngram_range=(1,2),min_df= min_value,\n",
    "                                         max_df = max_value,lowercase=True, stop_words = 'english')\n",
    "            D = vectorizer.fit_transform(reviewText)\n",
    "\n",
    "            skf = cross_validation.StratifiedKFold(y_data, n_folds=10,random_state=500)\n",
    "\n",
    "            for train_index, test_index in skf:\n",
    "                X_train, X_test = D[train_index], D[test_index]\n",
    "                y_train, y_test = y_data[train_index], y_data[test_index]\n",
    "\n",
    "            result = OneVsRestClassifier(LinearSVC(random_state=0)).fit(X_train, y_train)\n",
    "            result.predict(X_test)\n",
    "            print(\"SVM :\",accuracy_score(result.predict(X_test),y_test),\"max_df:\",max_value,\" min_df:\",min_value)\n",
    "\n",
    "            logreg = linear_model.LogisticRegression()\n",
    "            logreg.fit(X_train, y_train)\n",
    "            logreg.predict(X_test) == y_test\n",
    "            print(\"Logistic :\",accuracy_score(logreg.predict(X_test), y_test),\"max_df:\",max_value,\"min_df:\",min_value)\n",
    "\n",
    "            min_value -= 0.1\n",
    "        max_value += 0.1\n",
    "except:\n",
    "    print(\"error : max_df:\",max_value,\"error : min_df:\",min_value)"
   ]
  },
  {
   "cell_type": "code",
   "execution_count": null,
   "metadata": {
    "collapsed": true
   },
   "outputs": [],
   "source": [
    "# max_value = 1\n",
    "# min_value = 0.1\n",
    "\n",
    "# try:\n",
    "#     for i in range(10):\n",
    "#         for j in range(10):\n",
    "#             vectorizer = TfidfVectorizer(analyzer='word', sublinear_tf=True, ngram_range=(1,2),min_df= min_value,max_df = max_value,lowercase=True, stop_words = 'english')\n",
    "#             D = vectorizer.fit_transform(reviewText)\n",
    "\n",
    "#             skf = cross_validation.StratifiedKFold(y_data, n_folds=10,random_state=500)\n",
    "\n",
    "#             for train_index, test_index in skf:\n",
    "#                 X_train, X_test = D[train_index], D[test_index]\n",
    "#                 y_train, y_test = y_data[train_index], y_data[test_index]\n",
    "\n",
    "#             result = OneVsRestClassifier(LinearSVC(random_state=0)).fit(X_train, y_train)\n",
    "#             result.predict(X_test)\n",
    "#             print(\"SVM :\",accuracy_score(result.predict(X_test),y_test))\n",
    "\n",
    "#             logreg = linear_model.LogisticRegression()\n",
    "#             logreg.fit(X_train, y_train)\n",
    "#             logreg.predict(X_test) == y_test\n",
    "#             print(\"Logistic :\",accuracy_score(logreg.predict(X_test), y_test))\n",
    "\n",
    "#             min_value += 0.1\n",
    "#         max_value += 1\n",
    "# except:\n",
    "#     print(\"error : max_df:\",max_values,\"error : min_df:\",min_values)"
   ]
  },
  {
   "cell_type": "code",
   "execution_count": null,
   "metadata": {
    "collapsed": true
   },
   "outputs": [],
   "source": [
    "# max_value = 0.1\n",
    "# min_value = 0.1\n",
    "\n",
    "# try:\n",
    "#     for i in range(10):\n",
    "#         for j in range(10):\n",
    "#             vectorizer = TfidfVectorizer(analyzer='word', sublinear_tf=True, ngram_range=(1,2),min_df= min_value,max_df = max_value,lowercase=True, stop_words = 'english')\n",
    "#             D = vectorizer.fit_transform(reviewText)\n",
    "\n",
    "#             skf = cross_validation.StratifiedKFold(y_data, n_folds=10,random_state=500)\n",
    "\n",
    "#             for train_index, test_index in skf:\n",
    "#                 X_train, X_test = D[train_index], D[test_index]\n",
    "#                 y_train, y_test = y_data[train_index], y_data[test_index]\n",
    "\n",
    "#             result = OneVsRestClassifier(LinearSVC(random_state=0)).fit(X_train, y_train)\n",
    "#             result.predict(X_test)\n",
    "#             print(\"SVM :\",accuracy_score(result.predict(X_test),y_test))\n",
    "\n",
    "#             logreg = linear_model.LogisticRegression()\n",
    "#             logreg.fit(X_train, y_train)\n",
    "#             logreg.predict(X_test) == y_test\n",
    "#             print(\"Logistic :\",accuracy_score(logreg.predict(X_test), y_test))\n",
    "\n",
    "#             min_value += 0.1\n",
    "#         max_value += 0.1\n",
    "# except:\n",
    "#     print(\"error : max_df:\",max_values,\"error : min_df:\",min_values)"
   ]
  },
  {
   "cell_type": "code",
   "execution_count": null,
   "metadata": {
    "collapsed": true
   },
   "outputs": [],
   "source": [
    "# max_value = 1\n",
    "# min_value = 0.1\n",
    "\n",
    "# try:\n",
    "#     for i in range(10):\n",
    "#         for j in range(10):\n",
    "#             vectorizer = TfidfVectorizer(analyzer='word', sublinear_tf=True, ngram_range=(1,2),min_df= min_value,max_df = max_value,lowercase=True, stop_words = 'english')\n",
    "#             D = vectorizer.fit_transform(reviewText)\n",
    "\n",
    "#             skf = cross_validation.StratifiedKFold(y_data, n_folds=10,random_state=500)\n",
    "\n",
    "#             for train_index, test_index in skf:\n",
    "#                 X_train, X_test = D[train_index], D[test_index]\n",
    "#                 y_train, y_test = y_data[train_index], y_data[test_index]\n",
    "\n",
    "#             result = OneVsRestClassifier(LinearSVC(random_state=0)).fit(X_train, y_train)\n",
    "#             result.predict(X_test)\n",
    "#             print(\"SVM :\",accuracy_score(result.predict(X_test),y_test))\n",
    "\n",
    "#             logreg = linear_model.LogisticRegression()\n",
    "#             logreg.fit(X_train, y_train)\n",
    "#             logreg.predict(X_test) == y_test\n",
    "#             print(\"Logistic :\",accuracy_score(logreg.predict(X_test), y_test))\n",
    "\n",
    "#             min_value += 0.1\n",
    "#         max_value += 1\n",
    "# except:\n",
    "#     print(\"error : max_df:\",max_values,\"error : min_df:\",min_values)"
   ]
  }
 ],
 "metadata": {
  "kernelspec": {
   "display_name": "Python 3",
   "language": "python",
   "name": "python3"
  },
  "language_info": {
   "codemirror_mode": {
    "name": "ipython",
    "version": 3
   },
   "file_extension": ".py",
   "mimetype": "text/x-python",
   "name": "python",
   "nbconvert_exporter": "python",
   "pygments_lexer": "ipython3",
   "version": "3.5.0"
  }
 },
 "nbformat": 4,
 "nbformat_minor": 2
}
