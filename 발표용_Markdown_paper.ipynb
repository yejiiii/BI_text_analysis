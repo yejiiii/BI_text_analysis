{
 "cells": [
  {
   "cell_type": "markdown",
   "metadata": {},
   "source": [
    "<table>\n",
    "<tr>\n",
    "\t<th align=\"left\"></th>\n",
    "\t<th align=\"center\">Last week</th>\n",
    "\t<th align=\"right\">This week</th>\n",
    "</tr>\n",
    "<tr>\n",
    "\t<th align=\"left\">Feature Engineering</th>\n",
    "\t<td align=\"center\"><ol>1. n-gram<br>2. 형용사,동사,부사 추출<br>3. 긍정단어/부정단어 추출</td>\n",
    "\t<td align=\"right\"></td>\n",
    "</tr>\n",
    "<tr>\n",
    "\t<th align=\"left\">Variables</th>\n",
    "\t<td align=\"center\"></td>\n",
    "\t<td align=\"right\">TFIDF Min_df, Max_df 조정<br></td>\n",
    "</tr>\n",
    "<tr>\n",
    "\t<th align=\"left\">Model 선택</th>\n",
    "\t<td align=\"center\">SVM<br>Logistic Regression</td>\n",
    "\t<td align=\"right\"></td>\n",
    "</tr>\n",
    "<tr>\n",
    "\t<th align=\"left\">System 설계</th>\n",
    "\t<td align=\"center\">웹 페이지 Layout설계</td>\n",
    "\t<td align=\"right\">D.jango</td>\n",
    "</tr>\n",
    "<tr>\n",
    "\t<th align=\"left\">Accuracy</th>\n",
    "\t<td align=\"center\">Logistic Regression : 0.63 </td>\n",
    "\t<td align=\"right\"></td>\n",
    "</tr>"
   ]
  },
  {
   "cell_type": "markdown",
   "metadata": {
    "collapsed": true
   },
   "source": [
    "## TFIDF Max_df, Min_df 조정 "
   ]
  },
  {
   "cell_type": "markdown",
   "metadata": {},
   "source": [
    "## Accuracy"
   ]
  },
  {
   "cell_type": "code",
   "execution_count": null,
   "metadata": {
    "collapsed": true
   },
   "outputs": [],
   "source": []
  },
  {
   "cell_type": "code",
   "execution_count": null,
   "metadata": {
    "collapsed": true
   },
   "outputs": [],
   "source": []
  },
  {
   "cell_type": "code",
   "execution_count": null,
   "metadata": {
    "collapsed": true
   },
   "outputs": [],
   "source": []
  },
  {
   "cell_type": "code",
   "execution_count": null,
   "metadata": {
    "collapsed": true
   },
   "outputs": [],
   "source": []
  }
 ],
 "metadata": {
  "kernelspec": {
   "display_name": "Python 3",
   "language": "python",
   "name": "python3"
  },
  "language_info": {
   "codemirror_mode": {
    "name": "ipython",
    "version": 3
   },
   "file_extension": ".py",
   "mimetype": "text/x-python",
   "name": "python",
   "nbconvert_exporter": "python",
   "pygments_lexer": "ipython3",
   "version": "3.5.0"
  }
 },
 "nbformat": 4,
 "nbformat_minor": 2
}
