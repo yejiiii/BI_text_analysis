{
 "cells": [
  {
   "cell_type": "code",
<<<<<<< HEAD
<<<<<<< HEAD
   "execution_count": 48,
   "metadata": {
    "collapsed": true,
    "deletable": true,
    "editable": true
=======
   "execution_count": 80,
   "metadata": {
    "collapsed": true
>>>>>>> 8ffe6566f0afa0954d7052203aaf59c96f2a42d8
=======
   "execution_count": 1,
   "metadata": {
    "collapsed": true,
    "deletable": true,
    "editable": true
>>>>>>> f253a1f33d8556c596c99086a02bd2a761d11f36
   },
   "outputs": [],
   "source": [
    "import json\n",
    "import pandas as pd\n",
<<<<<<< HEAD
    "import nltk"
=======
    "import nltk\n",
    "import numpy as np\n",
    "import matplotlib.pyplot as plt"
>>>>>>> 8ffe6566f0afa0954d7052203aaf59c96f2a42d8
   ]
  },
  {
   "cell_type": "code",
<<<<<<< HEAD
<<<<<<< HEAD
   "execution_count": 49,
   "metadata": {
    "collapsed": true,
    "deletable": true,
    "editable": true
   },
=======
   "execution_count": 81,
   "metadata": {},
>>>>>>> 8ffe6566f0afa0954d7052203aaf59c96f2a42d8
=======
   "execution_count": 2,
   "metadata": {
    "collapsed": true
=======
   "execution_count": 81,
   "metadata": {
    "collapsed": true,
    "deletable": true,
    "editable": true
>>>>>>> d3411d91205a221219a6a5b8cbdf4670258e80f7
   },
>>>>>>> f253a1f33d8556c596c99086a02bd2a761d11f36
   "outputs": [],
   "source": [
    "with open(\"Books_5.json\",\"r\") as data_file:\n",
    "    raw_data=data_file.readlines()"
   ]
  },
  {
   "cell_type": "code",
<<<<<<< HEAD
<<<<<<< HEAD
   "execution_count": 50,
   "metadata": {
    "collapsed": false,
    "deletable": true,
    "editable": true
   },
=======
   "execution_count": 82,
   "metadata": {},
>>>>>>> 8ffe6566f0afa0954d7052203aaf59c96f2a42d8
=======
   "execution_count": 3,
   "metadata": {},
   "outputs": [],
=======
   "execution_count": 82,
   "metadata": {
    "collapsed": false,
    "deletable": true,
    "editable": true
   },
>>>>>>> f253a1f33d8556c596c99086a02bd2a761d11f36
   "outputs": [
    {
     "name": "stdout",
     "output_type": "stream",
     "text": [
      "{\"reviewerID\": \"AAXUNK0W2DZG5\", \"asin\": \"0060520841\", \"reviewerName\": \"Amazon Customer \\\"leneker\\\"\", \"helpful\": [5, 10], \"reviewText\": \"1996 Bernard Goldberg wrote an editorial for the Wall Street Journal that said there was an obvious bias on the part of network new shows  for the liberal point of view.  he then illustrated this with an example that he dissected in-depth.  The reaction to this observation was the ruination of her career, and the beginning of his status as a pariah among most newsmen.  This book is used to add more ammo to the controversy.That the journalists who so eagerly pry into other peoples lives and business should be reluctant to be examined is hardly surprising.  Almost no one really wants to have his life or business dissected by Mike Wallace not even Dan Rather.  Some facts in this book are really potent such as the survey results which show how the average journalist and the average American are often vastly at odds.  Other chapters highlight different stories that TV news has covered and the analysis that Goldberg has made to point out the liberal bias.  His main theme is that while there is no conspiracy of the left, the fact is that most reporters are liberal but fewer still will admit it.There is some sound reasoning behind this book.  Sadly in execution, it doesn't come off as well as it could.  Goldberg has one argument in all the years he worked closely with Dan Rather (according to him) and yet it seems like all they did was fight.  Why ?  because Goldberg replays that one argument about 5 or 6 times in the book.  Much of the material that is thought provoking the first time around is pretty stale after the third or fourth reading. He kindly reprints the editorial that started the whole furor, too bad this was at the end of the book because the entire first chapter is just a rehash of that argument.  Too often Goldberg is reduced sounding like the bitter vindictive perso 93184\n"
     ]
    }
   ],
>>>>>>> d3411d91205a221219a6a5b8cbdf4670258e80f7
   "source": [
    "json_list = []\n",
    "for i in range(len(raw_data)):\n",
    "    try:\n",
    "        json_data = json.loads(raw_data[i])\n",
    "        json_list.append(json_data)\n",
    "    except:\n",
    "        print(raw_data[i],i)"
   ]
  },
  {
   "cell_type": "code",
<<<<<<< HEAD
<<<<<<< HEAD
   "execution_count": 51,
   "metadata": {
    "collapsed": true,
    "deletable": true,
    "editable": true
=======
   "execution_count": 83,
   "metadata": {
    "collapsed": true
>>>>>>> 8ffe6566f0afa0954d7052203aaf59c96f2a42d8
=======
   "execution_count": 4,
   "metadata": {
    "collapsed": true,
    "deletable": true,
    "editable": true
>>>>>>> f253a1f33d8556c596c99086a02bd2a761d11f36
   },
   "outputs": [],
   "source": [
    "review_data = []\n",
    "\n",
    "for i in range(len(json_list)):\n",
    "    review_dict={}\n",
    "    review_dict[\"reviewText\"] = json_list[i][\"reviewText\"]\n",
    "    review_dict[\"overall\"] = json_list[i][\"overall\"]\n",
    "    review_data.append(review_dict)"
   ]
  },
  {
   "cell_type": "code",
<<<<<<< HEAD
<<<<<<< HEAD
   "execution_count": 52,
   "metadata": {
    "collapsed": true,
    "deletable": true,
    "editable": true
=======
   "execution_count": 84,
   "metadata": {
    "collapsed": true
>>>>>>> 8ffe6566f0afa0954d7052203aaf59c96f2a42d8
=======
   "execution_count": 5,
   "metadata": {
    "collapsed": true,
    "deletable": true,
    "editable": true
>>>>>>> f253a1f33d8556c596c99086a02bd2a761d11f36
   },
   "outputs": [],
   "source": [
    "import random\n",
    "random_data = random.sample(review_data,len(review_data))"
   ]
  },
  {
   "cell_type": "code",
<<<<<<< HEAD
<<<<<<< HEAD
   "execution_count": 53,
   "metadata": {
    "collapsed": false,
    "deletable": true,
    "editable": true
   },
=======
   "execution_count": 85,
   "metadata": {},
>>>>>>> 8ffe6566f0afa0954d7052203aaf59c96f2a42d8
=======
   "execution_count": 7,
   "metadata": {},
=======
   "execution_count": 85,
   "metadata": {
    "collapsed": false,
    "deletable": true,
    "editable": true
   },
>>>>>>> d3411d91205a221219a6a5b8cbdf4670258e80f7
>>>>>>> f253a1f33d8556c596c99086a02bd2a761d11f36
   "outputs": [
    {
     "data": {
      "text/plain": [
       "[{'overall': 4.0,\n",
       "  'reviewText': \"I reviewed this book for Young Adult and Teen Readers. Hearing the name, I was excited. I've heard of Ella James but had not yet read any of her work, and given the fact that I haven't read any YA lately, I was ready to give it a go.The book did start out a little choppy. We open with the heroine and her friends at a sleepover waking up and talking about going to play paintball and who was going to shoot who in the nuts for being a cheater. Funny, but for someone like me who doesn't do well with names, it was a little hard to follow. Thankfully, that little hiccup was short lived. Within a few pages I was hooked.The heroine, Milo, has continued a deer tagging project for her recently deceased father and accidentally shoots a boy with a tranq gun. But she swears he wasn't there, then there was a flash of light, a power surge, and he was there. In a tuxedo. I have to admit, that part cracked me up.The boy, whom she dubs Nick, has no memory whatsoever and Milo decides she needs to help him remember who he is. When the DoD shows up at her door and weird things start happening, Milo and Nick end up running for their lives.This one was a page turner! The action is super fast, and the dialogue easy to read. The characters were deep without being too angsty or self-absorbed as can be the case for some YA PNR. This one though, I thought was absolutely a great read and I'm eager to read book 2 since I'm not standing on the edge of a cliff. Or is it hanging?\"},\n",
       " {'overall': 4.0,\n",
       "  'reviewText': 'I enjoyed this book, as long as I kept in mind that the book was written for young adults.  The characters were believable and it was easy to identify with their pain.'},\n",
       " {'overall': 5.0,\n",
       "  'reviewText': \"I'm gonna be selfish for a minute but I really really really hope that there is another book for them! what a beautiful ending for such an amazing strong couple! excellent story!\"},\n",
       " {'overall': 5.0,\n",
       "  'reviewText': \"Not what I was expecting, but in in good way!  Can't wait to read the rest of them! A must read!\"},\n",
       " {'overall': 3.0,\n",
       "  'reviewText': \"I was very excited to start reading this book and although I did like it, I thought that a lot of the words to describe body parts was kind of high-schoolish.  Didn't care for the cliff hanging ending.\"},\n",
       " {'overall': 5.0,\n",
       "  'reviewText': \"Death is but a Dream is the first book under the mythology genre I have read, which even I am surprised at as I was fascinated by Greek Gods and their lore when I was younger. Erin Hayes is able to tell her story carefully, informing her reader fully of the Gods and their individual roles, without patronizing anybody who has prior knowledge of the Greek myths.One of the reasons I enjoyed Death is but a Dream so much is the way in which Erin Hayes is able to animate characters who are only known in stories 1000s of years old. I particularly liked her portrayal of Hades,&#34; Hades was middle-aged, dressed in a fine, $5,000 Giorgio Armani suit. He had a stylish haircut for someone of his age, peppering from a dark brown to a light grey at his temples. He looked like he was the CEO of a big company, which I was expecting. I just wasn't expecting him to be smiling at me, or to look so . . . happy.&#34;Callie is in the Underworld after being run over by a bus, saving a young girl. Though technically on earth she is in a coma Hades needs her detective skills to find out who is trying to assassinate his son, Plutus, the God of Wealth.Erin Hayes builds a layered plot and the perpetrator is difficult to determine, with Callie even questioning if Plutus has motive to arrange his own murder.With Aphrodite, goddess of love appearing in the story it is only fair to assume some romance amongst the mystery. However, though Plutus is the God of Wealth and the son of one of the most powerful of the Greek Gods, he is lacking in confidence, and has his own fixations.Callie is obsessed with her work and whilst in the Underworld allows Plutus' case to overwhelm her, having little time for other activities. The time Callie and Plutus spend together can often be awkward or even humorous, like showing a Greek God how to eat his first McDonalds!Death is but a Dream was a new genre of story-telling for me but I loved every moment of this book. Erin Hayes' ideas were fresh and I hope she continues Callie and Plutus' story in a sequel.A must read!I received this as a review copy, but this has had no influence on my opinion.\"},\n",
       " {'overall': 2.0,\n",
       "  'reviewText': \"I don't know if you are familiar with FANFIC on the internet but that what this book reminded me of.  I love the series and thought I would like the books...not so much.\"},\n",
       " {'overall': 1.0,\n",
       "  'reviewText': \"I think the author gets lost in his own thoughts and trys to make storys of something that's not there.\"},\n",
       " {'overall': 5.0,\n",
       "  'reviewText': 'I could relate to many characters and incidents in this book...it was hard to put down once I started reading it...I am anxious for the next book in the series to become available.'},\n",
       " {'overall': 5.0,\n",
       "  'reviewText': 'As I love western era romances, this one was wonderful.  An easy read and ended the way we always hope....happily!'}]"
      ]
     },
<<<<<<< HEAD
<<<<<<< HEAD
     "execution_count": 53,
=======
     "execution_count": 85,
>>>>>>> 8ffe6566f0afa0954d7052203aaf59c96f2a42d8
=======
     "execution_count": 7,
>>>>>>> f253a1f33d8556c596c99086a02bd2a761d11f36
     "metadata": {},
     "output_type": "execute_result"
    }
   ],
   "source": [
    "random_data[:10]"
   ]
  },
  {
   "cell_type": "code",
<<<<<<< HEAD
   "execution_count": 54,
   "metadata": {
    "collapsed": false,
    "deletable": true,
    "editable": true,
=======
   "execution_count": 86,
   "metadata": {
<<<<<<< HEAD
>>>>>>> 8ffe6566f0afa0954d7052203aaf59c96f2a42d8
=======
    "collapsed": false,
    "deletable": true,
    "editable": true,
>>>>>>> f253a1f33d8556c596c99086a02bd2a761d11f36
    "scrolled": true
   },
   "outputs": [
    {
     "data": {
      "text/plain": [
       "93184"
      ]
     },
<<<<<<< HEAD
     "execution_count": 54,
=======
     "execution_count": 86,
>>>>>>> 8ffe6566f0afa0954d7052203aaf59c96f2a42d8
     "metadata": {},
     "output_type": "execute_result"
    }
   ],
   "source": [
    "len(random_data)"
   ]
  },
  {
   "cell_type": "code",
<<<<<<< HEAD
   "execution_count": 55,
   "metadata": {
    "collapsed": false,
    "deletable": true,
    "editable": true
   },
=======
   "execution_count": 87,
<<<<<<< HEAD
   "metadata": {},
>>>>>>> 8ffe6566f0afa0954d7052203aaf59c96f2a42d8
=======
   "metadata": {
    "collapsed": false,
    "deletable": true,
    "editable": true
   },
>>>>>>> f253a1f33d8556c596c99086a02bd2a761d11f36
   "outputs": [
    {
     "data": {
      "text/plain": [
<<<<<<< HEAD
       "{'asin': '006009026X',\n",
       " 'overall': 5.0,\n",
       " 'reviewText': 'This book is fun. You feel like you know the women after you read their stories. Their strength, independence and ability to run a home while their husbands were starting a democracy are admirable.'}"
      ]
     },
     "execution_count": 55,
=======
       "{'asin': '0028633504',\n",
       " 'overall': 5.0,\n",
       " 'reviewText': \"This cookbook is wonderfull!!!!  I am, by no means, a real good person in the kitchen.  I've been on weight watchers for a while now and got tired of cooking seperate for me and my family.  This book allows me to stay on my daily points and know that my family is eating healthy, as well.  My husband and kids really love the recipes.The recipes are quick and easy.  A dummy like me can even make a successful meal.I highly recommend this book.  This book is a MUST HAVE for your kitchen!!!\"}"
      ]
     },
     "execution_count": 87,
>>>>>>> 8ffe6566f0afa0954d7052203aaf59c96f2a42d8
     "metadata": {},
     "output_type": "execute_result"
    }
   ],
   "source": [
    "random_data[0]"
   ]
  },
  {
   "cell_type": "code",
<<<<<<< HEAD
   "execution_count": 56,
   "metadata": {
    "collapsed": false,
    "deletable": true,
    "editable": true
=======
   "execution_count": 88,
   "metadata": {
<<<<<<< HEAD
    "collapsed": true
>>>>>>> 8ffe6566f0afa0954d7052203aaf59c96f2a42d8
=======
    "collapsed": true,
    "deletable": true,
    "editable": true
>>>>>>> f253a1f33d8556c596c99086a02bd2a761d11f36
   },
   "outputs": [],
   "source": [
    "from nltk.corpus import stopwords"
   ]
  },
  {
   "cell_type": "code",
<<<<<<< HEAD
   "execution_count": 57,
   "metadata": {
    "collapsed": false,
    "deletable": true,
    "editable": true
   },
=======
   "execution_count": 118,
<<<<<<< HEAD
   "metadata": {},
>>>>>>> 8ffe6566f0afa0954d7052203aaf59c96f2a42d8
=======
   "metadata": {
    "collapsed": false,
    "deletable": true,
    "editable": true
   },
>>>>>>> f253a1f33d8556c596c99086a02bd2a761d11f36
   "outputs": [
    {
     "name": "stdout",
     "output_type": "stream",
     "text": [
<<<<<<< HEAD
      "This book is fun. You feel like you know the women after you read their stories. Their strength, independence and ability to run a home while their husbands were starting a democracy are admirable.\n",
      "This book is fun. You feel like you know the women after you read their stories. Their strength, independence and ability to run a home while their husbands were starting a democracy are admirable.\n"
=======
      "This cookbook is wonderfull!!!!  I am, by no means, a real good person in the kitchen.  I've been on weight watchers for a while now and got tired of cooking seperate for me and my family.  This book allows me to stay on my daily points and know that my family is eating healthy, as well.  My husband and kids really love the recipes.The recipes are quick and easy.  A dummy like me can even make a successful meal.I highly recommend this book.  This book is a MUST HAVE for your kitchen!!!\n"
>>>>>>> 8ffe6566f0afa0954d7052203aaf59c96f2a42d8
     ]
    },
    {
     "name": "stderr",
     "output_type": "stream",
     "text": [
      "c:\\users\\jangy\\miniconda3\\envs\\bi_project\\lib\\site-packages\\bs4\\__init__.py:181: UserWarning: No parser was explicitly specified, so I'm using the best available HTML parser for this system (\"html5lib\"). This usually isn't a problem, but if you run this code on another system, or in a different virtual environment, it may use a different parser and behave differently.\n",
      "\n",
<<<<<<< HEAD
      "The code that caused this warning is on line 193 of the file c:\\users\\jangy\\miniconda3\\envs\\bi_project\\lib\\runpy.py. To get rid of this warning, change code that looks like this:\n",
=======
      "The code that caused this warning is on line 170 of the file c:\\users\\jangy\\miniconda3\\envs\\bi_project\\lib\\runpy.py. To get rid of this warning, change code that looks like this:\n",
>>>>>>> 8ffe6566f0afa0954d7052203aaf59c96f2a42d8
      "\n",
      " BeautifulSoup(YOUR_MARKUP})\n",
      "\n",
      "to this:\n",
      "\n",
      " BeautifulSoup(YOUR_MARKUP, \"html5lib\")\n",
      "\n",
      "  markup_type=markup_type))\n"
     ]
    }
   ],
   "source": [
    "# Import BeautifulSoup into your workspace\n",
    "from bs4 import BeautifulSoup             \n",
    "\n",
<<<<<<< HEAD
    "# Initialize the BeautifulSoup object on a single movie review     \n",
    "example1 = BeautifulSoup(random_data[0][\"reviewText\"])  \n",
    "\n",
    "# Print the raw review and then the output of get_text(), for \n",
    "# comparison\n",
    "print(random_data[0][\"reviewText\"])\n",
    "print(example1.get_text())"
=======
    "example1 = BeautifulSoup(random_data[0][\"reviewText\"])  \n",
    "\n",
    "print(random_data[0][\"reviewText\"])"
>>>>>>> 8ffe6566f0afa0954d7052203aaf59c96f2a42d8
   ]
  },
  {
   "cell_type": "code",
<<<<<<< HEAD
   "execution_count": 58,
   "metadata": {
    "collapsed": false,
    "deletable": true,
    "editable": true
   },
=======
   "execution_count": 119,
<<<<<<< HEAD
   "metadata": {},
>>>>>>> 8ffe6566f0afa0954d7052203aaf59c96f2a42d8
=======
   "metadata": {
    "collapsed": false,
    "deletable": true,
    "editable": true
   },
>>>>>>> f253a1f33d8556c596c99086a02bd2a761d11f36
   "outputs": [
    {
     "name": "stdout",
     "output_type": "stream",
     "text": [
<<<<<<< HEAD
      "This book is fun  You feel like you know the women after you read their stories  Their strength  independence and ability to run a home while their husbands were starting a democracy are admirable \n"
=======
      "This cookbook is wonderfull      I am  by no means  a real good person in the kitchen   I ve been on weight watchers for a while now and got tired of cooking seperate for me and my family   This book allows me to stay on my daily points and know that my family is eating healthy  as well   My husband and kids really love the recipes The recipes are quick and easy   A dummy like me can even make a successful meal I highly recommend this book   This book is a MUST HAVE for your kitchen   \n"
>>>>>>> 8ffe6566f0afa0954d7052203aaf59c96f2a42d8
     ]
    }
   ],
   "source": [
    "import re\n",
    "# Use regular expressions to do a find-and-replace\n",
    "letters_only = re.sub(\"[^a-zA-Z]\",           # The pattern to search for\n",
    "                      \" \",                   # The pattern to replace it with\n",
    "                      example1.get_text() )  # The text to search\n",
    "print(letters_only)"
   ]
  },
  {
   "cell_type": "code",
<<<<<<< HEAD
   "execution_count": 159,
   "metadata": {
    "collapsed": true,
    "deletable": true,
    "editable": true
=======
   "execution_count": 121,
   "metadata": {
<<<<<<< HEAD
    "collapsed": true
>>>>>>> 8ffe6566f0afa0954d7052203aaf59c96f2a42d8
=======
    "collapsed": true,
    "deletable": true,
    "editable": true
>>>>>>> f253a1f33d8556c596c99086a02bd2a761d11f36
   },
   "outputs": [],
   "source": [
    "def review_to_words(raw_review):\n",
    "    # Function to convert a raw review to a string of words\n",
    "    # The input is a single string (a raw movie review), and \n",
    "    # the output is a single string (a preprocessed movie review)\n",
    "    \n",
    "   \n",
<<<<<<< HEAD
    "    cleaned_review=[]\n",
    "    for i in range(len(raw_review)):\n",
    "        cleaned_text_list=[]\n",
    "        review_text = BeautifulSoup(raw_review[i][\"reviewText\"]).get_text()\n",
    "        letters_only = re.sub(\"[^a-zA-Z]\", \" \", review_text)\n",
    "        words = letters_only.lower().split()\n",
    "        stops = set(stopwords.words(\"english\"))\n",
    "        meaningful_words = [w for w in words if not w in stops]\n",
    "        cleaned_text = \" \".join(meaningful_words)\n",
    "        cleaned_text_list.append(cleaned_text)\n",
    "#         print(cleaned_text_list)\n",
    "    \n",
    "        cleaned_review.append(cleaned_text_list)\n",
    "    print(cleaned_review)  \n",
    "    return cleaned_review\n",
    "                                 \n",
    "    #\n",
    "    # 4. In Python, searching a set is much faster than searching\n",
    "    #   a list, so convert the stop words to a set\n",
    "                      \n",
    "    # \n",
    "    # 5. Remove stop words\n",
    "#     meaningful_words = [w for w in words if not w in stops]   \n",
    "    #\n",
    "    # 6. Join the words back into one string separated by space, \n",
    "    # and return the result.\n",
=======
    "    cleaned_text_list=[]\n",
    "    for i in range(len(raw_review)):\n",
    "        \n",
    "        review_text = BeautifulSoup(raw_review[i][\"reviewText\"]).get_text()\n",
    "        letters_only = re.sub(\"[^a-zA-Z]\", \" \", review_text)\n",
    "        words = letters_only.lower().split()\n",
    "        cleaned_text = \" \".join(words)\n",
    "        cleaned_text_list.append(cleaned_text)\n",
    "\n",
    "    return cleaned_text_list\n",
    "\n",
>>>>>>> 8ffe6566f0afa0954d7052203aaf59c96f2a42d8
    "       "
   ]
  },
  {
   "cell_type": "code",
<<<<<<< HEAD
   "execution_count": 160,
   "metadata": {
    "collapsed": false,
    "deletable": true,
    "editable": true,
=======
   "execution_count": 122,
   "metadata": {
<<<<<<< HEAD
>>>>>>> 8ffe6566f0afa0954d7052203aaf59c96f2a42d8
=======
    "collapsed": false,
    "deletable": true,
    "editable": true,
>>>>>>> f253a1f33d8556c596c99086a02bd2a761d11f36
    "scrolled": true
   },
   "outputs": [
    {
<<<<<<< HEAD
     "name": "stdout",
     "output_type": "stream",
     "text": [
      "[['book fun feel like know women read stories strength independence ability run home husbands starting democracy admirable'], ['read lot bad reviews book pretty reluctant read glad structure different first two books alternates narratives works well way agree ending different expected closes story nicely invested time read books disappointed one great end exciting trilogy'], ['loved book especially story moved present day loved characters wait se whole story would fit together also made look kashmir shawls greater appreciation culture workmanship involved like book takes back time pulls forward present day hen love book really liked pace book ended holiday read books took one captivated feel india like european woman time fascinating'], ['introduction islam frederick denny first edition second edition paperback isbn pgs although medium size paperback book actually worthy called college level textbook chapter early civilizations egypt mesopotamia jews pages christianity pages pre islamic arabia beliefs pgs muhammad early muslim community pages arab conquest pages basic beliefs worship practices islam pages nature function quran format recitation nature interpretation inimitability pgs prophets sunna preserved hadith pgs muslim creeds theologies place reason mutazilited three muslim creeds kalam challenge philosophy pgs law state classical islamic formulations shari fiqh schools law political institutions pgs sufi way mysticism tariqa al junayd sober sufism antinomian intoxicated al hallaj al ghazali pgs master disciples sufi orders shaykhs faqirs qadiri jalal al din al rumi mawlawis silsila dhikr sama ibn arabi pgs islamic life cyle family rites ceremonies customs infancy childhood marriage divorce inheritance property interest food clothing death rituals pgs ideals realities islamic community life mosque marketplace public behavior recreation veneration saints pgs islam modern world wahhabis islam nationalism pgs three forms islamic revival fundamentalism feminism umma north america pgs besides presenting islamic views middle east also covers far east also one informative books era'], ['reading reviews thought would great read wrong gladys ivy two worst characters ever read nothing liked book kept waiting character development never came stories rambled dysfunctionality ran rampant lives characters read whole thing even though stopped chapters wanted see rave reviews talking read least book week wasted week']]\n"
     ]
    },
    {
=======
>>>>>>> 8ffe6566f0afa0954d7052203aaf59c96f2a42d8
     "name": "stderr",
     "output_type": "stream",
     "text": [
      "c:\\users\\jangy\\miniconda3\\envs\\bi_project\\lib\\site-packages\\bs4\\__init__.py:181: UserWarning: No parser was explicitly specified, so I'm using the best available HTML parser for this system (\"html5lib\"). This usually isn't a problem, but if you run this code on another system, or in a different virtual environment, it may use a different parser and behave differently.\n",
      "\n",
<<<<<<< HEAD
      "The code that caused this warning is on line 193 of the file c:\\users\\jangy\\miniconda3\\envs\\bi_project\\lib\\runpy.py. To get rid of this warning, change code that looks like this:\n",
=======
      "The code that caused this warning is on line 170 of the file c:\\users\\jangy\\miniconda3\\envs\\bi_project\\lib\\runpy.py. To get rid of this warning, change code that looks like this:\n",
>>>>>>> 8ffe6566f0afa0954d7052203aaf59c96f2a42d8
      "\n",
      " BeautifulSoup(YOUR_MARKUP})\n",
      "\n",
      "to this:\n",
      "\n",
      " BeautifulSoup(YOUR_MARKUP, \"html5lib\")\n",
      "\n",
      "  markup_type=markup_type))\n"
     ]
    }
   ],
   "source": [
<<<<<<< HEAD
    "cleaned_review=review_to_words(random_data[:5])"
=======
    "random_review_data=review_to_words(random_data)"
   ]
  },
  {
   "cell_type": "code",
   "execution_count": 123,
   "metadata": {
    "collapsed": true,
    "deletable": true,
    "editable": true
   },
   "outputs": [],
   "source": [
    "# print(random_review_data)"
>>>>>>> 8ffe6566f0afa0954d7052203aaf59c96f2a42d8
   ]
  },
  {
   "cell_type": "code",
<<<<<<< HEAD
   "execution_count": 96,
   "metadata": {
    "collapsed": false,
    "deletable": true,
    "editable": true
   },
=======
   "execution_count": 124,
   "metadata": {
    "collapsed": true,
    "deletable": true,
    "editable": true
   },
   "outputs": [],
   "source": [
    "from sklearn.feature_extraction.text import TfidfVectorizer\n",
    "vectorizer = TfidfVectorizer(analyzer='word', sublinear_tf=True, max_df = 0.5, lowercase=True, stop_words = 'english')\n",
    "D = vectorizer.fit_transform(random_review_data)"
   ]
  },
  {
   "cell_type": "code",
   "execution_count": 125,
   "metadata": {
    "collapsed": false,
    "deletable": true,
    "editable": true
   },
   "outputs": [
    {
     "data": {
      "text/plain": [
       "(93184, 112387)"
      ]
     },
     "execution_count": 125,
     "metadata": {},
     "output_type": "execute_result"
    }
   ],
   "source": [
    "D.shape"
   ]
  },
  {
   "cell_type": "code",
   "execution_count": 126,
   "metadata": {
    "collapsed": true,
    "deletable": true,
    "editable": true
   },
   "outputs": [],
   "source": [
    "y_data = []\n",
    "int_y_data = []\n",
    "for i in range(len(random_data)):\n",
    "    y_data.append(random_data[i][\"overall\"])\n",
    "y_data=np.array(y_data)"
   ]
  },
  {
   "cell_type": "code",
   "execution_count": 127,
   "metadata": {
    "collapsed": true,
    "deletable": true,
    "editable": true
   },
   "outputs": [],
   "source": [
    "from sklearn.model_selection import train_test_split\n",
    "x_train, x_test, y_train, y_test = train_test_split(D, y_data, test_size=0.2, random_state=22)"
   ]
  },
  {
   "cell_type": "markdown",
   "metadata": {
    "deletable": true,
    "editable": true
   },
   "source": [
    "<h2>Logistioc Regression</h2>"
   ]
  },
  {
   "cell_type": "code",
   "execution_count": 98,
   "metadata": {
    "collapsed": false,
    "deletable": true,
    "editable": true
   },
   "outputs": [
    {
     "data": {
      "text/plain": [
       "array([False,  True, False, ...,  True,  True,  True], dtype=bool)"
      ]
     },
     "execution_count": 98,
     "metadata": {},
     "output_type": "execute_result"
    }
   ],
   "source": [
    "from sklearn import linear_model\n",
    "logreg = linear_model.LogisticRegression()\n",
    "\n",
    "logreg.fit(x_train, y_train)\n",
    "logreg.predict(x_test) == y_test"
   ]
  },
  {
   "cell_type": "code",
   "execution_count": 99,
   "metadata": {
    "collapsed": false,
    "deletable": true,
    "editable": true
   },
   "outputs": [
    {
     "data": {
      "text/plain": [
       "0.62424209905027628"
      ]
     },
     "execution_count": 99,
     "metadata": {},
     "output_type": "execute_result"
    }
   ],
   "source": [
    "from sklearn.metrics import accuracy_score\n",
    "accuracy_score(logreg.predict(x_test), y_test)"
   ]
  },
  {
   "cell_type": "markdown",
   "metadata": {
    "deletable": true,
    "editable": true
   },
   "source": [
    "<h2>Linear Support Vector Classification</h2>"
   ]
  },
  {
   "cell_type": "code",
   "execution_count": 128,
<<<<<<< HEAD
   "metadata": {},
>>>>>>> 8ffe6566f0afa0954d7052203aaf59c96f2a42d8
=======
   "metadata": {
    "collapsed": false,
    "deletable": true,
    "editable": true
   },
>>>>>>> f253a1f33d8556c596c99086a02bd2a761d11f36
   "outputs": [
    {
     "name": "stdout",
     "output_type": "stream",
     "text": [
<<<<<<< HEAD
      "None\n"
=======
      "0:00:04.275085\n"
     ]
    }
   ],
   "source": [
    "from sklearn.svm import LinearSVC\n",
    "from datetime import datetime\n",
    " \n",
    "# initialise the SVM classifier\n",
    "classifier = LinearSVC()\n",
    " \n",
    "# train the classifier\n",
    "t1 = datetime.now()\n",
    "classifier.fit(x_train, y_train)\n",
    "print(datetime.now() - t1)"
   ]
  },
  {
   "cell_type": "code",
   "execution_count": 129,
   "metadata": {
    "collapsed": false,
    "deletable": true,
    "editable": true
   },
   "outputs": [
    {
     "name": "stdout",
     "output_type": "stream",
     "text": [
      "[5.0, 5.0, 5.0, 5.0, 5.0, 5.0, 5.0, 5.0, 3.0, 3.0]\n",
      "[ 4.  5.  4.  5.  5.  5.  3.  5.  4.  3.]\n"
     ]
    }
   ],
   "source": [
    "preds = classifier.predict(x_test)\n",
    "print(list(preds[:10]))\n",
    "print(y_test[:10])"
   ]
  },
  {
   "cell_type": "code",
   "execution_count": 130,
   "metadata": {
    "collapsed": false,
    "deletable": true,
    "editable": true
   },
   "outputs": [
    {
     "name": "stdout",
     "output_type": "stream",
     "text": [
      "0.603476954445\n"
     ]
    }
   ],
   "source": [
    "from sklearn.metrics import accuracy_score\n",
    "print(accuracy_score(y_test, preds))"
   ]
  },
  {
   "cell_type": "code",
   "execution_count": 131,
   "metadata": {
    "collapsed": false,
    "deletable": true,
    "editable": true
   },
   "outputs": [
    {
     "name": "stdout",
     "output_type": "stream",
     "text": [
      "             precision    recall  f1-score   support\n",
      "\n",
      "        1.0       0.49      0.33      0.39       855\n",
      "        2.0       0.33      0.21      0.26       998\n",
      "        3.0       0.35      0.24      0.28      2031\n",
      "        4.0       0.40      0.31      0.35      4400\n",
      "        5.0       0.70      0.86      0.77     10353\n",
      "\n",
      "avg / total       0.56      0.60      0.57     18637\n",
      "\n"
>>>>>>> 8ffe6566f0afa0954d7052203aaf59c96f2a42d8
     ]
    }
   ],
   "source": [
<<<<<<< HEAD
    "print(clean_review)"
=======
    "from sklearn.metrics import classification_report\n",
    "print(classification_report(y_test, preds))"
>>>>>>> 8ffe6566f0afa0954d7052203aaf59c96f2a42d8
   ]
  },
  {
   "cell_type": "code",
   "execution_count": null,
   "metadata": {
<<<<<<< HEAD
<<<<<<< HEAD
    "collapsed": true,
    "deletable": true,
    "editable": true
=======
    "collapsed": true
>>>>>>> 8ffe6566f0afa0954d7052203aaf59c96f2a42d8
=======
    "collapsed": true,
    "deletable": true,
    "editable": true
>>>>>>> f253a1f33d8556c596c99086a02bd2a761d11f36
   },
   "outputs": [],
   "source": []
  }
 ],
 "metadata": {
  "kernelspec": {
   "display_name": "Python 3",
   "language": "python",
   "name": "python3"
  },
  "language_info": {
   "codemirror_mode": {
    "name": "ipython",
    "version": 3
   },
   "file_extension": ".py",
   "mimetype": "text/x-python",
   "name": "python",
   "nbconvert_exporter": "python",
   "pygments_lexer": "ipython3",
<<<<<<< HEAD
<<<<<<< HEAD
   "version": "3.6.1"
=======
   "version": "3.5.0"
>>>>>>> 8ffe6566f0afa0954d7052203aaf59c96f2a42d8
=======
   "version": "3.5.3"
>>>>>>> f253a1f33d8556c596c99086a02bd2a761d11f36
  }
 },
 "nbformat": 4,
 "nbformat_minor": 2
}
